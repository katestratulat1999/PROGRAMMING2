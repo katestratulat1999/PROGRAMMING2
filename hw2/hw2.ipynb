{
 "cells": [
  {
   "cell_type": "code",
   "execution_count": null,
   "metadata": {},
   "outputs": [],
   "source": [
    "import json\n",
    "import urllib.request\n",
    "import sys\n",
    "import re\n",
    "\n",
    "class GitUser(): #класс для хранения информации пользователя\n",
    "\tdef getFollowers(self): #получаем количество подписчиков пользователя\n",
    "\t\turl = 'https://api.github.com/users/%s/followers' % self.name\n",
    "\t\tresponse = urllib.request.urlopen(url)\n",
    "\t\ttext = response.read().decode('utf-8')\n",
    "\t\tdata = json.loads(text)\n",
    "\t\treturn len(data)"
   ]
  },
  {
   "cell_type": "code",
   "execution_count": null,
   "metadata": {},
   "outputs": [],
   "source": [
    "\tdef getLangs(self): #получаем используемые пользователем языки\n",
    "\t\tuserLang = []\n",
    "\t\turl = 'https://api.github.com/users/%s/repos' % self.name\n",
    "\t\tresponse = urllib.request.urlopen(url)\n",
    "\t\ttext = response.read().decode('utf-8')\n",
    "\t\tdata = json.loads(text)\n",
    "\t\tself.numOfReps = len(data)\n",
    "\t\tfor i in data:\n",
    "\t\t\tlang = str(i[\"language\"])\n",
    "\t\t\tif lang != \"None\":\n",
    "\t\t\t\tif lang not in userLang:\n",
    "\t\t\t\t\tuserLang.append(lang)\n",
    "\t\treturn userLang"
   ]
  },
  {
   "cell_type": "code",
   "execution_count": null,
   "metadata": {},
   "outputs": [],
   "source": [
    "\tdef __init__(self, username): #инициализаия класса\n",
    "\t\tself.name = username #имя пользователя\n",
    "\t\tself.numOfFollowers = self.getFollowers() #количество подписчиков пользователя\n",
    "\t\tself.numOfReps = 0 #количество репозиториев пользователя\n",
    "\t\tself.langsUsed = self.getLangs() #список используемых языков"
   ]
  },
  {
   "cell_type": "code",
   "execution_count": null,
   "metadata": {},
   "outputs": [],
   "source": [
    "def getData(user): #получаем данные профиля выбранного пользователя\n",
    "\turl = 'https://api.github.com/users/%s/repos' % user\n",
    "\tresponse = urllib.request.urlopen(url)\n",
    "\ttext = response.read().decode('utf-8')\n",
    "\tdata = json.loads(text)\n",
    "\treturn data"
   ]
  },
  {
   "cell_type": "code",
   "execution_count": null,
   "metadata": {},
   "outputs": [],
   "source": [
    "def readFile(f): #читаем из файла список анализируемых пользователей\n",
    "    rfile = open(f, 'r', encoding='utf-8')\n",
    "    txt = rfile.read()\n",
    "    rfile.close()\n",
    "    return txt"
   ]
  },
  {
   "cell_type": "code",
   "execution_count": null,
   "metadata": {},
   "outputs": [],
   "source": [
    "def getUserInfo(data, user): #получаем список проектов, их описание и статистику по используемым языкам выбранного пользователя\n",
    "  userLang = []\n",
    "  repLang = {}\n",
    "  for i in data:\n",
    "\t  name = str(i[\"name\"])\n",
    "\t  desc = str(i[\"description\"])\n",
    "\t  lang = str(i[\"language\"])\n",
    "\t  print(\"%s: %s\\n-----\" % (name, desc))\n",
    "\t  if lang != \"None\":\n",
    "\t\t  if lang not in userLang:\n",
    "\t\t\t  userLang.append(lang)\n",
    "\t\t  repLang[name] = lang;\n",
    "  print(\"Пользователь %s использует языки: %s.\" % (user, ', '.join(userLang)))\n",
    "  for l in userLang:\n",
    "\t  listOfRep = []\n",
    "\t  for i, j in repLang.items():\n",
    "\t\t  if j == l:\n",
    "\t\t\t  listOfRep.append(i)\n",
    "\t  print(\"Язык %s используется в репозиториях: %s.\" % (l, ', '.join(listOfRep)))"
   ]
  },
  {
   "cell_type": "code",
   "execution_count": null,
   "metadata": {},
   "outputs": [],
   "source": [
    "def getMaxReps(gitUsers, userNames): #выясняем, у кого из пользователей списка больше репозиториев\n",
    "  maxReps = 0\n",
    "  maxName =\"\"\n",
    "  for i in range(len(gitUsers)):\n",
    "\t  if gitUsers[i].numOfReps > maxReps:\n",
    "\t\t  maxReps = gitUsers[i].numOfReps\n",
    "\t\t  maxName = userNames[i]\n",
    "  print(\"Из пользователей %s больше всего репозиториев у %s.\" % (', '.join(userNames), maxName))"
   ]
  },
  {
   "cell_type": "code",
   "execution_count": null,
   "metadata": {},
   "outputs": [],
   "source": [
    "def getMaxFollowers(gitUsers, userNames): #выясняем, у кого из пользователей списка больше подписчиков\n",
    "  maxFollowers = 0\n",
    "  maxName = \"\"\n",
    "  for i in range(len(gitUsers)):\n",
    "\t  if gitUsers[i].numOfFollowers > maxFollowers:\n",
    "\t\t  maxFollowers = gitUsers[i].numOfFollowers\n",
    "\t\t  maxName = userNames[i]\t\t\n",
    "  print(\"Больше всего подписчиков у %s: %d человек.\" % (maxName, maxFollowers))"
   ]
  },
  {
   "cell_type": "code",
   "execution_count": null,
   "metadata": {},
   "outputs": [],
   "source": [
    "def getPopularLang(gitUsers): #выясняем самый используемый язык среди пользователей списка\n",
    "  langList = []\n",
    "  langDict = {}\n",
    "  popLangName = \"\"\n",
    "  popLangNum = 0\n",
    "  for i in range(len(gitUsers)):\n",
    "\t  for j in gitUsers[i].langsUsed:\n",
    "\t\t  if j not in langList:\n",
    "\t\t\t  langList.append(j)\n",
    "\t\t\t  langDict[j] = 0\n",
    "\t\t  else:\n",
    "\t\t\t  langDict[j] += 1\n",
    "  for i, j in langDict.items():\n",
    "\t  if j > popLangNum:\n",
    "\t\t  popLangNum = j\n",
    "\t\t  popLangName = i\n",
    "  print(\"Самый популярный язык средии пользователей: %s.\" % popLangName)"
   ]
  },
  {
   "cell_type": "code",
   "execution_count": null,
   "metadata": {},
   "outputs": [],
   "source": [
    "def main(): #основная функция\n",
    "  gitUsers = [] #список объектов, хранящих данные пользователей из списка\n",
    "  userNames = [] #список пользователей из файла\n",
    "  user = \"\" #выбранный для анализа пользователь\n",
    "\n",
    "  txt = readFile(\"1/1.txt\") #открываем файл с именами пользователей\n",
    "  userNames = re.findall(r\"\\S.*\", txt) #получаем список пользователей\n",
    "  print(\"Список пользователей: %s\" % ', '.join(userNames))\n",
    "\n",
    "  while True: #цикл по выбору пользователя для анализа\n",
    "    user = input(\"Введите имя пользователя из списка или 0 для выхода >>\")\n",
    "    user = user.strip()\n",
    "    if user != \"0\":\n",
    "      if (user in userNames):\n",
    "        try:\n",
    "          data = getData(user)\n",
    "        except Exception:\n",
    "          print (\"Ошибка соединения. Попробуйте ещё раз!\")\n",
    "          continue\n",
    "        else:\n",
    "          print(\"\\nВы выбрали пользователя %s.\\n\" % user)\n",
    "          print(\"Вот список его репозиториев:\\n-----\")\n",
    "          break\n",
    "      else:\n",
    "        print(\"Неверный ввод. Попробуйте ещё раз!\")\n",
    "    else:\n",
    "      sys.exit()\n",
    "\n",
    "  getUserInfo(data, user) #получаем список проектов, их описание и статистику по используемым языкам выбранного пользователя\n",
    "\n",
    "  print(\"-----\\nПодождите, идёт сбор статистики...\\n-----\")\n",
    "  # формируем список объектов с данными пользователей из списка\n",
    "  for i in range(len(userNames)):\n",
    "\t  gitUsers.append(GitUser(userNames[i]))\n",
    "\n",
    "  getMaxReps(gitUsers, userNames) #выясняем, у кого из пользователей списка больше репозиториев\n",
    "  getMaxFollowers(gitUsers, userNames) #выясняем, у кого из пользователей списка больше подписчиков\n",
    "  getPopularLang(gitUsers) #выясняем самый используемый язык среди пользователей списка\n",
    "\n",
    "if __name__ == \"__main__\":\n",
    "  main()"
   ]
  }
 ],
 "metadata": {
  "kernelspec": {
   "display_name": "Python 3",
   "language": "python",
   "name": "python3"
  },
  "language_info": {
   "codemirror_mode": {
    "name": "ipython",
    "version": 3
   },
   "file_extension": ".py",
   "mimetype": "text/x-python",
   "name": "python",
   "nbconvert_exporter": "python",
   "pygments_lexer": "ipython3",
   "version": "3.6.5"
  }
 },
 "nbformat": 4,
 "nbformat_minor": 2
}
