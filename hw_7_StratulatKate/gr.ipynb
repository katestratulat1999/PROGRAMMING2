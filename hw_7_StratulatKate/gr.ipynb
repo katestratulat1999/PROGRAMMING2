{
 "cells": [
  {
   "cell_type": "code",
   "execution_count": 15,
   "metadata": {
    "scrolled": true
   },
   "outputs": [],
   "source": [
    "import networkx as nx\n",
    "import matplotlib.pyplot as plt\n",
    "from matplotlib import style\n",
    "import gensim\n",
    "from pymystem3 import Mystem\n",
    "from networkx.algorithms import community\n",
    "import random"
   ]
  },
  {
   "cell_type": "code",
   "execution_count": 16,
   "metadata": {},
   "outputs": [],
   "source": [
    "def loadModel():\n",
    "    f = 'ruscorpora_mystem_cbow_300_2_2015.bin.gz'\n",
    "    model = gensim.models.KeyedVectors.load_word2vec_format(f, binary=True)\n",
    "    return model"
   ]
  },
  {
   "cell_type": "code",
   "execution_count": 17,
   "metadata": {},
   "outputs": [],
   "source": [
    "def getWord(word):\n",
    "    m = Mystem()\n",
    "    l = m.analyze(word.strip())\n",
    "    gr = l[0]['analysis'][0]['gr']\n",
    "    return l[0]['analysis'][0]['lex'] + \"_\" + gr.split('=')[0].split(',')[0]"
   ]
  },
  {
   "cell_type": "code",
   "execution_count": 18,
   "metadata": {},
   "outputs": [],
   "source": [
    "def searchInModel(model, word):\n",
    "    neib = []\n",
    "    if word in model:\n",
    "        for i in model.most_similar(positive=[word], topn=10):\n",
    "            if i[1] >= 0.5:\n",
    "                neib.append(i)\n",
    "    else:\n",
    "        pass\n",
    "    return neib"
   ]
  },
  {
   "cell_type": "code",
   "execution_count": 19,
   "metadata": {},
   "outputs": [],
   "source": [
    "def visualize(G, d):\n",
    "    global headkeys\n",
    "    style.use('ggplot')\n",
    "    plt.figure(figsize=(10, 10))\n",
    "    plt.tight_layout()\n",
    "    # для начала надо выбрать способ \"укладки\" графа. Их много, возьмём для начала такой:\n",
    "    pos=nx.spring_layout(G)\n",
    "    #nx.draw_networkx_nodes(G, pos, nodelist=res, node_color='green', node_size=400)\n",
    "    nx.draw_networkx_nodes(G, pos, node_color='red', node_size=100)\n",
    "    nx.draw_networkx_edges(G, pos, edge_color='#c2d7f9')\n",
    "    nx.draw_networkx_nodes(G, pos, nodelist=d.keys(), node_color=d.values(), node_size = 100)\n",
    "    nx.draw_networkx_nodes(G, pos, nodelist=headkeys, node_color='red', node_size=300)\n",
    "    nx.draw_networkx_labels(G, pos, font_size=8, font_family='Arial')\n",
    "    plt.axis('off') # по умолчанию график будет снабжён осями с координатами, здесь они бессмысленны, так что отключаем\n",
    "    plt.savefig(\"./static/figure.png\")"
   ]
  },
  {
   "cell_type": "code",
   "execution_count": 20,
   "metadata": {},
   "outputs": [],
   "source": [
    "def analyzeGraph(G):\n",
    "    s = \"\"\n",
    "    s += \"Радиус графа: \" + str(nx.radius(G)) + \"<br/>\"\n",
    "    s += \"Диаметр графа: \" + str(nx.diameter(G)) + \"<br/>\"\n",
    "    s += \"Коэффициент ассортативности: \" + str(nx.degree_pearson_correlation_coefficient(G)) + \"<br/>\"\n",
    "    s += \"Плотность графа: \" + str(nx.density(G)) + \"<br/>\"\n",
    "    s += \"Коэффициент кластеризации: \" + str(nx.average_clustering(G)) + \"<br/>\"\n",
    "    return s"
   ]
  },
  {
   "cell_type": "code",
   "execution_count": 21,
   "metadata": {},
   "outputs": [],
   "source": [
    "def getCenrality(G):\n",
    "    # Центральность узлов (важность узлов)\n",
    "    deg = nx.degree_centrality(G)\n",
    "    s = \"Degree centrality: \"\n",
    "    for nodeid in sorted(deg, key=deg.get, reverse=True)[:5]:\n",
    "        s += nodeid + \"; \"\n",
    "    return s + \"<br/>\""
   ]
  },
  {
   "cell_type": "code",
   "execution_count": 22,
   "metadata": {},
   "outputs": [],
   "source": [
    "def getBetweenness(G):\n",
    "    btw = nx.betweenness_centrality(G)\n",
    "    s = \"Betweenness centrality: \"\n",
    "    for nodeid in sorted(btw, key=btw.get, reverse=True)[:5]:\n",
    "        s += nodeid + \"; \"\n",
    "    return s + \"<br/>\""
   ]
  },
  {
   "cell_type": "code",
   "execution_count": 23,
   "metadata": {},
   "outputs": [],
   "source": [
    "def getCloseness(G):\n",
    "    global headkeys\n",
    "    headkeys = []\n",
    "    gls = nx.closeness_centrality(G)\n",
    "    s = \"Closeness centrality: \"\n",
    "    for nodeid in sorted(gls, key=gls.get, reverse=True)[:5]:\n",
    "        s += nodeid + \"; \"\n",
    "        headkeys.append(nodeid)\n",
    "    return s + \"<br/>\""
   ]
  },
  {
   "cell_type": "code",
   "execution_count": 24,
   "metadata": {},
   "outputs": [],
   "source": [
    "def getEigenvector(G):\n",
    "    eig = nx.eigenvector_centrality(G)\n",
    "    s = \"Eigenvector centrality: \"\n",
    "    for nodeid in sorted(eig, key=eig.get, reverse=True)[:5]:\n",
    "        s += nodeid + \"; \"\n",
    "    return s + \"<br/>\""
   ]
  },
  {
   "cell_type": "code",
   "execution_count": 25,
   "metadata": {},
   "outputs": [],
   "source": [
    "def getCommunities(G):\n",
    "    colors = ['#ef743e', '#efd43e', '#c7ef3e', '#89ef3e', '#3eefb3', '#3ea2ef','#FDFDB0','#DE1A93',\\\n",
    "              '#2A4E73','#60C7C0','#9F2877','#B64A30','#B1ECC7','#0E25CA']\n",
    "    d = {}\n",
    "    com = community.greedy_modularity_communities(G)\n",
    "    for c in com:\n",
    "        color = colors[random.randint(0, 13)]\n",
    "        for el in list(c):\n",
    "            d[el] = color\n",
    "    return d"
   ]
  },
  {
   "cell_type": "code",
   "execution_count": 26,
   "metadata": {},
   "outputs": [],
   "source": [
    "def mainFunc(res):\n",
    "    global model, G\n",
    "    model = loadModel()\n",
    "    G = nx.Graph()\n",
    "    txt = \"\"\n",
    "    for w in res:\n",
    "        txt += w + \"<br>\" + processGraph(w) + \"<br>\"\n",
    "    txt += \"Цветами выделены сообщества, крупными точками - узлы, выбранные по характеристике Closeness centrality.\" + \"<br><br>\"\n",
    "    return txt"
   ]
  },
  {
   "cell_type": "code",
   "execution_count": 27,
   "metadata": {},
   "outputs": [],
   "source": [
    "def processGraph(w):\n",
    "    global model, G\n",
    "    word = getWord(w.strip())\n",
    "    l = searchInModel(model, word)\n",
    "    #G = nx.Graph()\n",
    "    G.add_node(word)\n",
    "    #sizes = [400]\n",
    "    for n, w in l:\n",
    "        G.add_node(n)\n",
    "        #sizes.append(200)\n",
    "        G.add_edge(word, n, weight=w)\n",
    "        l1 = searchInModel(model, n)\n",
    "        for n1, w1 in l1:\n",
    "            G.add_node(n1)\n",
    "            #sizes.append(50)\n",
    "            G.add_edge(n, n1, weight=w1)\n",
    "    nx.write_gexf(G, 'graph_file.gexf')\n",
    "    s = analyzeGraph(G)\n",
    "    s += getCenrality(G)\n",
    "    s += getBetweenness(G)\n",
    "    s += getCloseness(G)\n",
    "    s += getEigenvector(G)\n",
    "    d = getCommunities(G)\n",
    "    visualize(G, d)\n",
    "    return s"
   ]
  },
  {
   "cell_type": "code",
   "execution_count": null,
   "metadata": {},
   "outputs": [],
   "source": []
  }
 ],
 "metadata": {
  "kernelspec": {
   "display_name": "Python 3",
   "language": "python",
   "name": "python3"
  },
  "language_info": {
   "codemirror_mode": {
    "name": "ipython",
    "version": 3
   },
   "file_extension": ".py",
   "mimetype": "text/x-python",
   "name": "python",
   "nbconvert_exporter": "python",
   "pygments_lexer": "ipython3",
   "version": "3.6.5"
  }
 },
 "nbformat": 4,
 "nbformat_minor": 2
}
