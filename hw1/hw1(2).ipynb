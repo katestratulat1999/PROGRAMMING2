{
 "cells": [
  {
   "cell_type": "code",
   "execution_count": null,
   "metadata": {},
   "outputs": [],
   "source": [
    "# виселица\n",
    "\n",
    "\n",
    "import os\n",
    "import re\n",
    "import random"
   ]
  },
  {
   "cell_type": "code",
   "execution_count": null,
   "metadata": {},
   "outputs": [],
   "source": [
    "# функция считывает файл\n",
    "\n",
    "\n",
    "def readFile(f):\n",
    "    rfile = open(f, 'r', encoding='utf-8')\n",
    "    txt = rfile.read()\n",
    "    rfile.close()\n",
    "    return txt"
   ]
  },
  {
   "cell_type": "code",
   "execution_count": null,
   "metadata": {},
   "outputs": [],
   "source": [
    "# функция просит ввести букву, меняет _ на угаданную, в противном случае - уменьшает кол-во попыток на 1\n",
    "\n",
    "\n",
    "def guessWord():\n",
    "    global numOfTries, temp, numOfMisses, win\n",
    "    letter = input(\"Введите букву: >> \")\n",
    "    if letter not in letters:\n",
    "        if letter in word:\n",
    "            print(\"Угадал!\")\n",
    "            for i in range(numOfLetters):\n",
    "                if word[i] == letter and temp[i] == \"_\":\n",
    "                    temp = temp[:i] + letter + temp[i+1:]\n",
    "            print(temp)\n",
    "            if \"_\" not in temp:\n",
    "                win = True\n",
    "                return\n",
    "        else:\n",
    "            print(\"Неверная буква!\")\n",
    "            for i in range(numOfMisses):\n",
    "                print(hangMan[i])\n",
    "            numOfMisses += 1\n",
    "    else:\n",
    "        print(\"Буква уже была!\")\n",
    "        for i in range(numOfMisses):\n",
    "            print(hangMan[i])\n",
    "        numOfMisses += 1\n",
    "    letters.append(letter)\n",
    "    numOfTries -= 1\n",
    "    if (numOfTries > 4):\n",
    "        print(\"Осталось \" + str(numOfTries) + \" попыток.\")\n",
    "    elif (numOfTries > 1):\n",
    "        print(\"Осталось \" + str(numOfTries) + \" попытки.\")\n",
    "    elif (numOfTries == 1):\n",
    "        print(\"Осталась 1 попытка.\")"
   ]
  },
  {
   "cell_type": "code",
   "execution_count": null,
   "metadata": {},
   "outputs": [],
   "source": [
    "# детали человечка\n",
    "\n",
    "\n",
    "letters = []\n",
    "temp = \"\"\n",
    "numOfTries = 10\n",
    "numOfMisses = 0\n",
    "hangMan = [\"-----\",\"|   |\",\"|   O\",\"|   |\",\"|   \\\\\\\\\",\"|   |\",\"|   |\",\"|  / \\\\\",\"|\",\"|\"]\n",
    "win = False"
   ]
  },
  {
   "cell_type": "code",
   "execution_count": null,
   "metadata": {},
   "outputs": [],
   "source": [
    "# выбор темы\n",
    "\n",
    "\n",
    "subjects = (\"Домашние животные\", \"Виды спорта\", \"Блюда итальянской кухни\")\n",
    "sub = input(\n",
    "    \"Выберите тему (введите соответствующую теме цифру):\\n1 - Домашние животные,\\n2 - Виды спорта,\\n3 - Блюда итальянской кухни\\n>>\")\n",
    "while (int(sub) < 1 or int(sub) > 3):\n",
    "    sub = input(\"Неверный ввод. Повторите выбор: >> \")\n",
    "print(\"Вы выбрали тему: \" + subjects[int(sub)-1] + \".\")"
   ]
  },
  {
   "cell_type": "code",
   "execution_count": null,
   "metadata": {},
   "outputs": [],
   "source": [
    "# эта функция рандомно выбирает слово из списка\n",
    "\n",
    "\n",
    "txt = readFile(\"1/\" + subjects[int(sub)-1] +\".txt\")\n",
    "result = re.findall(r\"\\w*\\n\", txt)\n",
    "word = result[random.randint(0, 9)].strip()"
   ]
  },
  {
   "cell_type": "code",
   "execution_count": null,
   "metadata": {},
   "outputs": [],
   "source": [
    "numOfLetters = len(word)\n",
    "print(\"У вас есть \" + str(numOfTries) + \" попыток, чтобы угадать слово из \" + str(numOfLetters) + \" букв.\")\n",
    "print(\"_\" * numOfLetters)"
   ]
  },
  {
   "cell_type": "code",
   "execution_count": null,
   "metadata": {},
   "outputs": [],
   "source": [
    "temp = \"_\" * numOfLetters"
   ]
  },
  {
   "cell_type": "code",
   "execution_count": null,
   "metadata": {},
   "outputs": [],
   "source": [
    "while True:\n",
    "    guessWord()\n",
    "    if win:\n",
    "        print(\"Ты выиграл!\")\n",
    "        break\n",
    "    if numOfTries == 0:\n",
    "        print(\"Ты проиграл!\")\n",
    "        break"
   ]
  }
 ],
 "metadata": {
  "celltoolbar": "Raw Cell Format",
  "kernelspec": {
   "display_name": "Python 3",
   "language": "python",
   "name": "python3"
  },
  "language_info": {
   "codemirror_mode": {
    "name": "ipython",
    "version": 3
   },
   "file_extension": ".py",
   "mimetype": "text/x-python",
   "name": "python",
   "nbconvert_exporter": "python",
   "pygments_lexer": "ipython3",
   "version": "3.6.5"
  }
 },
 "nbformat": 4,
 "nbformat_minor": 2
}
