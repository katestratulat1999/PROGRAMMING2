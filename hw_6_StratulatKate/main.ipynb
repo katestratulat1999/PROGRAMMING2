{
 "cells": [
  {
   "cell_type": "code",
   "execution_count": null,
   "metadata": {},
   "outputs": [],
   "source": [
    "#acea1f9facea1f9facb576882dacb09ee6aaceaacea1f9ff42654477d8dbf19374cb73a\n",
    "\n",
    "import urllib.request\n",
    "import json\n",
    "import re\n",
    "from datetime import datetime\n",
    "import sqlite3\n",
    "import os\n",
    "from readDB import*"
   ]
  },
  {
   "cell_type": "code",
   "execution_count": null,
   "metadata": {},
   "outputs": [],
   "source": [
    "#создаем таблицу в базе данных\n",
    "def createTable():\n",
    "  conn = sqlite3.connect('mydb.db')\n",
    "  c = conn.cursor()\n",
    "  c.execute(\"CREATE TABLE IF NOT EXISTS posts(postid text, text text, time int, postlen int)\")\n",
    "  conn.commit()\n",
    "  c.execute(\"CREATE TABLE IF NOT EXISTS comments(postid text, comid text, text text, owner text, name text, time int, comlen int)\")\n",
    "  conn.commit()\n",
    "  conn.close()"
   ]
  },
  {
   "cell_type": "code",
   "execution_count": null,
   "metadata": {},
   "outputs": [],
   "source": [
    "#добавляем строку с результатом\n",
    "def insertInPosts(postid, text, time):\n",
    "  conn = sqlite3.connect('mydb.db')\n",
    "  c = conn.cursor()\n",
    "  c.execute(\"INSERT INTO posts VALUES (?,?,?,?)\", (postid, text, time, numOfWords(text)))\n",
    "  conn.commit()\n",
    "  conn.close()"
   ]
  },
  {
   "cell_type": "code",
   "execution_count": null,
   "metadata": {},
   "outputs": [],
   "source": [
    "#добавляем строку с результатом\n",
    "def insertInComments(postid, comid, text, owner, name, time):\n",
    "  conn = sqlite3.connect('mydb.db')\n",
    "  c = conn.cursor()\n",
    "  c.execute(\"INSERT INTO comments VALUES (?,?,?,?,?,?,?)\", (postid, comid, text, owner, name, time, numOfWords(text)))\n",
    "  conn.commit()\n",
    "  conn.close()"
   ]
  },
  {
   "cell_type": "code",
   "execution_count": null,
   "metadata": {},
   "outputs": [],
   "source": [
    "def numOfWords(txt):\n",
    "  return len(getWords(txt))"
   ]
  },
  {
   "cell_type": "code",
   "execution_count": null,
   "metadata": {},
   "outputs": [],
   "source": [
    "def getWords(txt):\n",
    "  words = re.findall(\"\\W*\\w+\", txt)\n",
    "  return words"
   ]
  },
  {
   "cell_type": "code",
   "execution_count": null,
   "metadata": {},
   "outputs": [],
   "source": [
    "def removeStopWords(txt, sw):\n",
    "  text = []\n",
    "  for word in getWords(txt):\n",
    "    if word.lower() not in sw:\n",
    "      text.append(word.lower())\n",
    "  return text"
   ]
  },
  {
   "cell_type": "code",
   "execution_count": null,
   "metadata": {},
   "outputs": [],
   "source": [
    "def sendRequest(req):\n",
    "  response = urllib.request.urlopen(req)\n",
    "  result = response.read().decode('utf-8')\n",
    "  data = json.loads(result)\n",
    "  return data"
   ]
  },
  {
   "cell_type": "code",
   "execution_count": null,
   "metadata": {},
   "outputs": [],
   "source": [
    "def txtToUTF(text):\n",
    "  text = ''.join(char if ord(char) < 65536 else '' for char in text)\n",
    "  return text"
   ]
  },
  {
   "cell_type": "code",
   "execution_count": null,
   "metadata": {},
   "outputs": [],
   "source": [
    "def writeToFile(path, name, txt):\n",
    "  with open(\"%s/Post#%s.txt\" % (path, name), 'a+', encoding='utf8') as f:\n",
    "    f.write(txt + \"\\n\")"
   ]
  },
  {
   "cell_type": "code",
   "execution_count": null,
   "metadata": {},
   "outputs": [],
   "source": [
    "def createFile(path, txt):\n",
    "  if not os.path.exists(\"./%s\" % path):\n",
    "    os.makedirs(\"./%s\" % path)\n",
    "  with open(\"./%s/Post#%s.txt\" % (path, txt), 'w+', encoding='utf8') as f:\n",
    "    f.write(\"\")"
   ]
  },
  {
   "cell_type": "code",
   "execution_count": null,
   "metadata": {},
   "outputs": [],
   "source": [
    "def readStopWords():\n",
    "  l = []\n",
    "  with open(\"stopwords.txt\", 'r', encoding='utf8') as f:\n",
    "    for line in f.readlines():\n",
    "      l.append(line.strip())\n",
    "  return l"
   ]
  },
  {
   "cell_type": "code",
   "execution_count": 3,
   "metadata": {},
   "outputs": [
    {
     "ename": "NameError",
     "evalue": "name 'readStopWords' is not defined",
     "output_type": "error",
     "traceback": [
      "\u001b[0;31m---------------------------------------------------------------------------\u001b[0m",
      "\u001b[0;31mNameError\u001b[0m                                 Traceback (most recent call last)",
      "\u001b[0;32m<ipython-input-3-53101db78cde>\u001b[0m in \u001b[0;36m<module>\u001b[0;34m\u001b[0m\n\u001b[1;32m     53\u001b[0m \u001b[0;34m\u001b[0m\u001b[0m\n\u001b[1;32m     54\u001b[0m \u001b[0;32mif\u001b[0m \u001b[0m__name__\u001b[0m \u001b[0;34m==\u001b[0m \u001b[0;34m'__main__'\u001b[0m\u001b[0;34m:\u001b[0m\u001b[0;34m\u001b[0m\u001b[0;34m\u001b[0m\u001b[0m\n\u001b[0;32m---> 55\u001b[0;31m     \u001b[0mmain\u001b[0m\u001b[0;34m(\u001b[0m\u001b[0;34m)\u001b[0m\u001b[0;34m\u001b[0m\u001b[0;34m\u001b[0m\u001b[0m\n\u001b[0m",
      "\u001b[0;32m<ipython-input-3-53101db78cde>\u001b[0m in \u001b[0;36mmain\u001b[0;34m()\u001b[0m\n\u001b[1;32m      5\u001b[0m   \u001b[0mnumOfPosts\u001b[0m \u001b[0;34m=\u001b[0m \u001b[0;36m51\u001b[0m\u001b[0;34m\u001b[0m\u001b[0;34m\u001b[0m\u001b[0m\n\u001b[1;32m      6\u001b[0m \u001b[0;34m\u001b[0m\u001b[0m\n\u001b[0;32m----> 7\u001b[0;31m   \u001b[0mstopwords\u001b[0m \u001b[0;34m=\u001b[0m \u001b[0mreadStopWords\u001b[0m\u001b[0;34m(\u001b[0m\u001b[0;34m)\u001b[0m\u001b[0;34m\u001b[0m\u001b[0;34m\u001b[0m\u001b[0m\n\u001b[0m\u001b[1;32m      8\u001b[0m \u001b[0;34m\u001b[0m\u001b[0m\n\u001b[1;32m      9\u001b[0m   \u001b[0;31m#закомментировать эти две строки после первого запуска\u001b[0m\u001b[0;34m\u001b[0m\u001b[0;34m\u001b[0m\u001b[0;34m\u001b[0m\u001b[0m\n",
      "\u001b[0;31mNameError\u001b[0m: name 'readStopWords' is not defined"
     ]
    }
   ],
   "source": [
    "def main():\n",
    "  token = '8423c2448423c2448423c244d08441f2a1884238423c244dee1644d9e90529494134bf8'\n",
    "  domain = 'tipkhimki'\n",
    "  offset = [0, 100]\n",
    "  numOfPosts = 51\n",
    "\n",
    "  stopwords = readStopWords()\n",
    "\n",
    "  #закомментировать эти две строки после первого запуска\n",
    "  createTable()\n",
    "\n",
    "  for off in offset:\n",
    "    #получаем записи со стены сообщества\n",
    "    req = urllib.request.Request('https://api.vk.com/method/wall.get?domain=%s&offset=%d&count=%d&v=5.92&access_token=%s'%(domain, off, numOfPosts, token))\n",
    "    data = sendRequest(req)\n",
    "    posts = data[\"response\"][\"items\"]\n",
    "    #владелец постов\n",
    "    owner_id = posts[0][\"owner_id\"]\n",
    "    #проход по каждому посту\n",
    "    for post in posts:\n",
    "      req = urllib.request.Request('https://api.vk.com/method/wall.getComments?owner_id=%d&post_id=%d&offset=%d&count=%d&v=5.92&access_token=%s'%(owner_id, post[\"id\"], off, 101, token))\n",
    "      data = sendRequest(req)\n",
    "      comments = data[\"response\"][\"items\"]\n",
    "      if len(comments) == 0:\n",
    "        continue\n",
    "      text = txtToUTF(post[\"text\"])   #получаем текст поста\n",
    "      postTime = post[\"date\"]\n",
    "      postID = str(post[\"id\"])\n",
    "      insertInPosts(postID, text, postTime)\n",
    "      createFile(\"plain\", postID)\n",
    "      writeToFile(\"plain\", postID, text)\n",
    "      writeToFile(\"plain\", postID, \"---------\\n-----------\")\n",
    "      for comment in comments:\n",
    "        try:\n",
    "          text = txtToUTF(comment[\"text\"])\n",
    "        except:\n",
    "          continue\n",
    "        writeToFile(\"plain\", postID, text)\n",
    "        writeToFile(\"plain\", postID, \"---------\")\n",
    "        req = urllib.request.Request('https://api.vk.com/method/users.get?user_ids=%s&v=5.92&access_token=%s'%(comment[\"from_id\"],token))\n",
    "        data = sendRequest(req)\n",
    "        try:\n",
    "          name = data[\"response\"][0][\"first_name\"]\n",
    "          insertInComments(postID, comment[\"id\"], text, comment[\"from_id\"], name, datetime.fromtimestamp(comment[\"date\"]).hour)\n",
    "        except Exception:\n",
    "          pass\n",
    "      \n",
    "  avglen()\n",
    "  namelen()\n",
    "  timelen()\n",
    "  posthourlen()\n",
    "  postmonthlen()\n",
    "\n",
    "if __name__ == '__main__':\n",
    "    main()"
   ]
  }
 ],
 "metadata": {
  "kernelspec": {
   "display_name": "Python 3",
   "language": "python",
   "name": "python3"
  },
  "language_info": {
   "codemirror_mode": {
    "name": "ipython",
    "version": 3
   },
   "file_extension": ".py",
   "mimetype": "text/x-python",
   "name": "python",
   "nbconvert_exporter": "python",
   "pygments_lexer": "ipython3",
   "version": "3.6.7"
  }
 },
 "nbformat": 4,
 "nbformat_minor": 2
}
