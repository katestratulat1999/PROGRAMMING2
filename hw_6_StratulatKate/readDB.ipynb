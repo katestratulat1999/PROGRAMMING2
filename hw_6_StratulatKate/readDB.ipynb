{
 "cells": [
  {
   "cell_type": "code",
   "execution_count": null,
   "metadata": {},
   "outputs": [],
   "source": [
    "import matplotlib.pyplot as plt\n",
    "import sqlite3\n",
    "from datetime import datetime"
   ]
  },
  {
   "cell_type": "code",
   "execution_count": null,
   "metadata": {},
   "outputs": [],
   "source": [
    "def avglen():\n",
    "  x = []\n",
    "  y = []\n",
    "  conn = sqlite3.connect('mydb.db')\n",
    "  c = conn.cursor()\n",
    "  c.execute(\"SELECT postid, ROUND(AVG(comlen)) avl FROM comments GROUP BY postid ORDER BY avl ASC\")\n",
    "  l = c.fetchall()\n",
    "  c.execute(\"SELECT postid, postlen FROM posts\")\n",
    "  for i in c.fetchall():\n",
    "    for j in l:\n",
    "      if i[0] == j[0]:\n",
    "        y.append(i[1])\n",
    "        x.append(j[1])\n",
    "  conn.commit()\n",
    "  conn.close()\n",
    "  plt.scatter(x, y)\n",
    "  plt.title(\"Зависимость средней длины комментариев от длины поста\")\n",
    "  plt.xlabel(\"Средняя длина комментариев\")\n",
    "  plt.ylabel(\"Средняя длина поста\")\n",
    "  plt.show()"
   ]
  },
  {
   "cell_type": "code",
   "execution_count": null,
   "metadata": {},
   "outputs": [],
   "source": [
    "def namelen():\n",
    "  x = []\n",
    "  y = []\n",
    "  conn = sqlite3.connect('mydb.db')\n",
    "  c = conn.cursor()\n",
    "  c.execute(\"SELECT name, ROUND(AVG(comlen)) as len FROM comments GROUP BY name ORDER BY len DESC LIMIT 10\")\n",
    "  for i in c.fetchall():\n",
    "    x.append(i[0])\n",
    "    y.append(i[1])\n",
    "  conn.commit()\n",
    "  conn.close()\n",
    "  plt.bar(x, y, color='y')\n",
    "  plt.title(\"Зависимость средней длины комментариев от имени комментатора\")\n",
    "  plt.xlabel(\"Имя комментатора\")\n",
    "  plt.ylabel(\"Средняя длина комментариев\")\n",
    "  plt.show()"
   ]
  },
  {
   "cell_type": "code",
   "execution_count": null,
   "metadata": {},
   "outputs": [],
   "source": [
    "def timelen():\n",
    "  x = []\n",
    "  y = []\n",
    "  conn = sqlite3.connect('mydb.db')\n",
    "  c = conn.cursor()\n",
    "  c.execute(\"SELECT time, ROUND(AVG(comlen)) as len FROM comments GROUP BY time ORDER BY time ASC\")\n",
    "  for i in c.fetchall():\n",
    "    x.append(i[0])\n",
    "    y.append(i[1])\n",
    "  conn.commit()\n",
    "  conn.close()\n",
    "  plt.bar(x, y, color='g')\n",
    "  plt.title(\"Зависимость средней длины комментариев от времени суток\")\n",
    "  plt.xlabel(\"Время суток(часы)\")\n",
    "  plt.ylabel(\"Средняя длина комментариев\")\n",
    "  plt.show()"
   ]
  },
  {
   "cell_type": "code",
   "execution_count": null,
   "metadata": {},
   "outputs": [],
   "source": [
    "def posthourlen():\n",
    "  x = []\n",
    "  y = []\n",
    "  conn = sqlite3.connect('mydb.db')\n",
    "  c = conn.cursor()\n",
    "  c.execute(\"SELECT time, postlen FROM posts\")\n",
    "  for i in c.fetchall():\n",
    "    x.append(datetime.fromtimestamp(int(i[0])).hour)\n",
    "    y.append(i[1])\n",
    "  conn.commit()\n",
    "  conn.close()\n",
    "  plt.bar(x, y, color='r')\n",
    "  plt.title(\"Зависимость длины постов от времени суток\")\n",
    "  plt.xlabel(\"Время суток(часы)\")\n",
    "  plt.ylabel(\"Длина постов\")\n",
    "  plt.show()"
   ]
  },
  {
   "cell_type": "code",
   "execution_count": null,
   "metadata": {},
   "outputs": [],
   "source": [
    "def postmonthlen():\n",
    "  x = []\n",
    "  y = []\n",
    "  conn = sqlite3.connect('mydb.db')\n",
    "  c = conn.cursor()\n",
    "  c.execute(\"SELECT time, postlen FROM posts\")\n",
    "  for i in c.fetchall():\n",
    "    x.append(datetime.fromtimestamp(int(i[0])).day)\n",
    "    y.append(i[1])\n",
    "  conn.commit()\n",
    "  conn.close()\n",
    "  plt.bar(x, y, color='b')\n",
    "  plt.title(\"Зависимость длины постов от дня месяца\")\n",
    "  plt.xlabel(\"День Месяца\")\n",
    "  plt.ylabel(\"Длина постов\")\n",
    "  plt.show()"
   ]
  }
 ],
 "metadata": {
  "kernelspec": {
   "display_name": "Python 3",
   "language": "python",
   "name": "python3"
  },
  "language_info": {
   "codemirror_mode": {
    "name": "ipython",
    "version": 3
   },
   "file_extension": ".py",
   "mimetype": "text/x-python",
   "name": "python",
   "nbconvert_exporter": "python",
   "pygments_lexer": "ipython3",
   "version": "3.6.7"
  }
 },
 "nbformat": 4,
 "nbformat_minor": 2
}
